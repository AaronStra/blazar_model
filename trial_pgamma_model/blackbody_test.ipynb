{
 "cells": [
  {
   "cell_type": "code",
   "execution_count": 1,
   "metadata": {},
   "outputs": [
    {
     "name": "stderr",
     "output_type": "stream",
     "text": [
      "/Users/wriju/miniconda3/envs/cta/lib/python3.6/site-packages/ipykernel_launcher.py:22: RuntimeWarning: overflow encountered in exp\n"
     ]
    },
    {
     "data": {
      "text/plain": [
       "<matplotlib.text.Text at 0x113c8eac8>"
      ]
     },
     "execution_count": 1,
     "metadata": {},
     "output_type": "execute_result"
    },
    {
     "data": {
      "image/png": "[encoded data removed]",
      "text/plain": [
       "<matplotlib.figure.Figure at 0x109db8e10>"
      ]
     },
     "metadata": {},
     "output_type": "display_data"
    }
   ],
   "source": [
    "from astropy import units as u\n",
    "import numpy as np\n",
    "from astropy.constants import k_B, hbar, c\n",
    "import matplotlib.pyplot as plt\n",
    "\n",
    "%matplotlib inline\n",
    "\n",
    "def _softphoton_dist(e, T):\n",
    "        \"\"\" Blackbody spectrum : No. of photons / energy / cm3\n",
    "        Parameters\n",
    "        ----------\n",
    "        e : 'astropy.units.Quantity' float\n",
    "            energy of photon (in eV)\n",
    "\n",
    "        T : 'astropy.units.Quantity' float\n",
    "            Temperature of Blackbody (in Kelvin)\n",
    "        \"\"\"\n",
    "        kT = (k_B * T).to('TeV')\n",
    "        hc = hbar.to('TeV s') * c.cgs\n",
    "        norm = 1 / ( (hc **3) * (np.pi ** 2) )\n",
    "        num = e.to('TeV') ** 2\n",
    "        denom = (np.exp(e / kT)).value - 1\n",
    "        \n",
    "        return (norm * (num / denom)).value\n",
    "    \n",
    "fr_low = 0.1 * u.GHz\n",
    "en_low = fr_low.to('eV', equivalencies = u.spectral())\n",
    "fr_hi = 1000 * u.GHz\n",
    "en_hi = fr_hi.to('eV', equivalencies = u.spectral())\n",
    "\n",
    "e_array = np.linspace(en_low, en_hi, 100)\n",
    "f_array = np.linspace(fr_low, fr_hi, 100)\n",
    "T = 2.7 * u.K\n",
    "\n",
    "n_soft = []\n",
    "\n",
    "for i, e in enumerate(e_array):\n",
    "    n_soft.append(_softphoton_dist(e, T))\n",
    "\n",
    "plt.loglog(f_array, n_soft)\n",
    "plt.title('Blackbody photon number density vs frequency')\n",
    "plt.xlabel('Frequency (GHz)')\n",
    "plt.ylabel('BB photon density')\n"
   ]
  },
  {
   "cell_type": "code",
   "execution_count": null,
   "metadata": {},
   "outputs": [],
   "source": []
  },
  {
   "cell_type": "code",
   "execution_count": null,
   "metadata": {
    "collapsed": true
   },
   "outputs": [],
   "source": []
  },
  {
   "cell_type": "code",
   "execution_count": null,
   "metadata": {
    "collapsed": true
   },
   "outputs": [],
   "source": []
  }
 ],
 "metadata": {
  "kernelspec": {
   "display_name": "Python 3",
   "language": "python",
   "name": "python3"
  },
  "language_info": {
   "codemirror_mode": {
    "name": "ipython",
    "version": 3
   },
   "file_extension": ".py",
   "mimetype": "text/x-python",
   "name": "python",
   "nbconvert_exporter": "python",
   "pygments_lexer": "ipython3",
   "version": "3.6.1"
  }
 },
 "nbformat": 4,
 "nbformat_minor": 2
}
